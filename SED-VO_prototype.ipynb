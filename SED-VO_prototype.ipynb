{
 "cells": [
  {
   "cell_type": "markdown",
   "metadata": {},
   "source": [
    "# SED tool prototype"
   ]
  },
  {
   "cell_type": "code",
   "execution_count": 1,
   "metadata": {},
   "outputs": [],
   "source": [
    "# %qtconsole"
   ]
  },
  {
   "cell_type": "code",
   "execution_count": 2,
   "metadata": {},
   "outputs": [
    {
     "name": "stdout",
     "output_type": "stream",
     "text": [
      "README.md               \u001b[34m__pycache__\u001b[m\u001b[m/            \u001b[35mplot\u001b[m\u001b[m@\r\n",
      "README.md~              \u001b[34mcatalogs\u001b[m\u001b[m/               \u001b[31msed_builder.py\u001b[m\u001b[m*\r\n",
      "SED-VO_prototype.ipynb  \u001b[34mdata\u001b[m\u001b[m/                   test.json\r\n"
     ]
    }
   ],
   "source": [
    "ls"
   ]
  },
  {
   "cell_type": "code",
   "execution_count": 3,
   "metadata": {},
   "outputs": [],
   "source": [
    "import warnings\n",
    "warnings.simplefilter('ignore')\n",
    "\n",
    "import astropy\n",
    "import bokeh\n",
    "\n",
    "# Tools to handle object/data discovery\n",
    "import catalogs\n",
    "catalogs = catalogs.__all__\n",
    "#import tools\n",
    "\n",
    "# The SED plot\n",
    "import plot"
   ]
  },
  {
   "cell_type": "code",
   "execution_count": 4,
   "metadata": {},
   "outputs": [],
   "source": [
    "from sed_builder import search_object, search_position"
   ]
  },
  {
   "cell_type": "code",
   "execution_count": 5,
   "metadata": {},
   "outputs": [],
   "source": [
    "object_name = '3c279'"
   ]
  },
  {
   "cell_type": "code",
   "execution_count": 7,
   "metadata": {},
   "outputs": [
    {
     "name": "stderr",
     "output_type": "stream",
     "text": [
      "INFO:astropy:Query Conesearch service and return a 'columns'-filtered table\n",
      "INFO:astropy:Position (194.046527,-5.789312) and radius (0.001388888888888889), in degrees\n",
      "INFO:astropy:URL (http://vizier.u-strasbg.fr/viz-bin/votable/-A?-out.all&-source=VIII%2F92%2Ffirst14&) and columns (['FIRST', '_RAJ2000', '_DEJ2000', 'Fint'])\n"
     ]
    },
    {
     "name": "stdout",
     "output_type": "stream",
     "text": [
      "Searching catalog: first\n",
      "INFO: Query Conesearch service and return a 'columns'-filtered table [eada.vo.conesearch]\n",
      "INFO: Position (%s,%s) and radius (%s), in degrees [eada.vo.conesearch]\n",
      "INFO: URL (%s) and columns (%s) [eada.vo.conesearch]\n"
     ]
    },
    {
     "name": "stderr",
     "output_type": "stream",
     "text": [
      "INFO:astropy:Retrieved table has 1 objects, 4 columns.\n"
     ]
    },
    {
     "name": "stdout",
     "output_type": "stream",
     "text": [
      "INFO: Retrieved table has 1 objects, 4 columns. [eada.vo.conesearch]\n",
      "> 1 objects found\n"
     ]
    },
    {
     "name": "stderr",
     "output_type": "stream",
     "text": [
      "INFO:astropy:Query Conesearch service and return a 'columns'-filtered table\n",
      "INFO:astropy:Position (194.046527,-5.789312) and radius (0.001388888888888889), in degrees\n",
      "INFO:astropy:URL (http://gsss.stsci.edu/webservices/vo/ConeSearch.aspx?CAT=GALEX&) and columns (['IAUname', 'RA', 'DEC', 'fuv_mag', 'nuv_mag'])\n"
     ]
    },
    {
     "name": "stdout",
     "output_type": "stream",
     "text": [
      "Searching catalog: galex\n",
      "INFO: Query Conesearch service and return a 'columns'-filtered table [eada.vo.conesearch]\n",
      "INFO: Position (%s,%s) and radius (%s), in degrees [eada.vo.conesearch]\n",
      "INFO: URL (%s) and columns (%s) [eada.vo.conesearch]\n"
     ]
    },
    {
     "name": "stderr",
     "output_type": "stream",
     "text": [
      "INFO:astropy:Retrieved table has 2 objects, 5 columns.\n",
      "INFO:astropy:Query Conesearch service and return a 'columns'-filtered table\n",
      "INFO:astropy:Position (194.046527,-5.789312) and radius (0.001388888888888889), in degrees\n",
      "INFO:astropy:URL (https://heasarc.gsfc.nasa.gov/cgi-bin/vo/cone/coneGet.pl?table=hers82cat&) and columns (['ra', 'dec', 'flux_250_um', 'flux_350_um', 'flux_500_um'])\n"
     ]
    },
    {
     "name": "stdout",
     "output_type": "stream",
     "text": [
      "INFO: Retrieved table has 2 objects, 5 columns. [eada.vo.conesearch]\n",
      "> 2 objects found\n",
      "Searching catalog: hers\n",
      "INFO: Query Conesearch service and return a 'columns'-filtered table [eada.vo.conesearch]\n",
      "INFO: Position (%s,%s) and radius (%s), in degrees [eada.vo.conesearch]\n",
      "INFO: URL (%s) and columns (%s) [eada.vo.conesearch]\n"
     ]
    },
    {
     "name": "stderr",
     "output_type": "stream",
     "text": [
      "INFO:astropy:Retrieved table has 0 objects, 5 columns.\n",
      "INFO:astropy:Query Conesearch service and return a 'columns'-filtered table\n",
      "INFO:astropy:Position (194.046527,-5.789312) and radius (0.001388888888888889), in degrees\n",
      "INFO:astropy:URL (http://skyserver.sdss.org/vo/ConeSearch/sdssConeSearch.asmx/ConeSearch?) and columns (['OBJID', 'RA', 'DEC', 'U', 'G', 'R', 'I', 'Z'])\n"
     ]
    },
    {
     "name": "stdout",
     "output_type": "stream",
     "text": [
      "INFO: Retrieved table has 0 objects, 5 columns. [eada.vo.conesearch]\n",
      "> Failed to query/retrieve data\n",
      "Searching catalog: sdss\n",
      "INFO: Query Conesearch service and return a 'columns'-filtered table [eada.vo.conesearch]\n",
      "INFO: Position (%s,%s) and radius (%s), in degrees [eada.vo.conesearch]\n",
      "INFO: URL (%s) and columns (%s) [eada.vo.conesearch]\n"
     ]
    },
    {
     "name": "stderr",
     "output_type": "stream",
     "text": [
      "INFO:astropy:Retrieved table has 0 objects, 8 columns.\n",
      "INFO:astropy:Query Conesearch service and return a 'columns'-filtered table\n",
      "INFO:astropy:Position (194.046527,-5.789312) and radius (0.001388888888888889), in degrees\n",
      "INFO:astropy:URL (https://irsa.ipac.caltech.edu/SCS?table=allwise_p3as_psd) and columns (['designation', 'ra', 'dec', 'w1mpro', 'w2mpro', 'w3mpro', 'w4mpro'])\n"
     ]
    },
    {
     "name": "stdout",
     "output_type": "stream",
     "text": [
      "INFO: Retrieved table has 0 objects, 8 columns. [eada.vo.conesearch]\n",
      "> Failed to query/retrieve data\n",
      "Searching catalog: wise\n",
      "INFO: Query Conesearch service and return a 'columns'-filtered table [eada.vo.conesearch]\n",
      "INFO: Position (%s,%s) and radius (%s), in degrees [eada.vo.conesearch]\n",
      "INFO: URL (%s) and columns (%s) [eada.vo.conesearch]\n"
     ]
    },
    {
     "name": "stderr",
     "output_type": "stream",
     "text": [
      "INFO:astropy:Retrieved table has 1 objects, 7 columns.\n",
      "INFO:astropy:Query Conesearch service and return a 'columns'-filtered table\n",
      "INFO:astropy:Position (194.046527,-5.789312) and radius (0.001388888888888889), in degrees\n",
      "INFO:astropy:URL (https://heasarc.gsfc.nasa.gov/cgi-bin/vo/cone/coneGet.pl?table=xmmssc&) and columns (['name', 'ra', 'dec', 'ep_8_flux', 'ep_1_flux', 'ep_2_flux', 'ep_3_flux', 'ep_4_flux', 'ep_5_flux'])\n"
     ]
    },
    {
     "name": "stdout",
     "output_type": "stream",
     "text": [
      "INFO: Retrieved table has 1 objects, 7 columns. [eada.vo.conesearch]\n",
      "> 1 objects found\n",
      "Searching catalog: xmm\n",
      "INFO: Query Conesearch service and return a 'columns'-filtered table [eada.vo.conesearch]\n",
      "INFO: Position (%s,%s) and radius (%s), in degrees [eada.vo.conesearch]\n",
      "INFO: URL (%s) and columns (%s) [eada.vo.conesearch]\n"
     ]
    },
    {
     "name": "stderr",
     "output_type": "stream",
     "text": [
      "INFO:astropy:Retrieved table has 2 objects, 9 columns.\n"
     ]
    },
    {
     "name": "stdout",
     "output_type": "stream",
     "text": [
      "INFO: Retrieved table has 2 objects, 9 columns. [eada.vo.conesearch]\n",
      "> 2 objects found\n"
     ]
    }
   ],
   "source": [
    "flux_table = search_object(object_name, radius=5, catalogs=catalogs)"
   ]
  },
  {
   "cell_type": "code",
   "execution_count": 8,
   "metadata": {},
   "outputs": [
    {
     "data": {
      "text/html": [
       "<div>\n",
       "<style scoped>\n",
       "    .dataframe tbody tr th:only-of-type {\n",
       "        vertical-align: middle;\n",
       "    }\n",
       "\n",
       "    .dataframe tbody tr th {\n",
       "        vertical-align: top;\n",
       "    }\n",
       "\n",
       "    .dataframe thead th {\n",
       "        text-align: right;\n",
       "    }\n",
       "</style>\n",
       "<table border=\"1\" class=\"dataframe\">\n",
       "  <thead>\n",
       "    <tr style=\"text-align: right;\">\n",
       "      <th></th>\n",
       "      <th>catalog</th>\n",
       "      <th>flux</th>\n",
       "      <th>freq</th>\n",
       "    </tr>\n",
       "  </thead>\n",
       "  <tbody>\n",
       "    <tr>\n",
       "      <th>0</th>\n",
       "      <td>first</td>\n",
       "      <td>1.489814e-13</td>\n",
       "      <td>1.400000e+09</td>\n",
       "    </tr>\n",
       "    <tr>\n",
       "      <th>0</th>\n",
       "      <td>galex</td>\n",
       "      <td>2.997325e-12</td>\n",
       "      <td>1.294608e+15</td>\n",
       "    </tr>\n",
       "    <tr>\n",
       "      <th>1</th>\n",
       "      <td>galex</td>\n",
       "      <td>1.711803e-12</td>\n",
       "      <td>1.948476e+15</td>\n",
       "    </tr>\n",
       "    <tr>\n",
       "      <th>0</th>\n",
       "      <td>wise</td>\n",
       "      <td>1.063797e-11</td>\n",
       "      <td>8.817425e+13</td>\n",
       "    </tr>\n",
       "    <tr>\n",
       "      <th>1</th>\n",
       "      <td>wise</td>\n",
       "      <td>1.529865e-11</td>\n",
       "      <td>6.517227e+13</td>\n",
       "    </tr>\n",
       "    <tr>\n",
       "      <th>2</th>\n",
       "      <td>wise</td>\n",
       "      <td>1.051822e-11</td>\n",
       "      <td>2.498270e+13</td>\n",
       "    </tr>\n",
       "    <tr>\n",
       "      <th>3</th>\n",
       "      <td>wise</td>\n",
       "      <td>1.821210e-11</td>\n",
       "      <td>1.362693e+13</td>\n",
       "    </tr>\n",
       "    <tr>\n",
       "      <th>0</th>\n",
       "      <td>xmm</td>\n",
       "      <td>1.471910e-11</td>\n",
       "      <td>1.208995e+18</td>\n",
       "    </tr>\n",
       "    <tr>\n",
       "      <th>1</th>\n",
       "      <td>xmm</td>\n",
       "      <td>1.112630e-12</td>\n",
       "      <td>6.044973e+16</td>\n",
       "    </tr>\n",
       "    <tr>\n",
       "      <th>2</th>\n",
       "      <td>xmm</td>\n",
       "      <td>1.962720e-12</td>\n",
       "      <td>1.813492e+17</td>\n",
       "    </tr>\n",
       "    <tr>\n",
       "      <th>3</th>\n",
       "      <td>xmm</td>\n",
       "      <td>2.588880e-12</td>\n",
       "      <td>3.626984e+17</td>\n",
       "    </tr>\n",
       "    <tr>\n",
       "      <th>4</th>\n",
       "      <td>xmm</td>\n",
       "      <td>3.708190e-12</td>\n",
       "      <td>7.253968e+17</td>\n",
       "    </tr>\n",
       "    <tr>\n",
       "      <th>5</th>\n",
       "      <td>xmm</td>\n",
       "      <td>5.383550e-12</td>\n",
       "      <td>1.934391e+18</td>\n",
       "    </tr>\n",
       "  </tbody>\n",
       "</table>\n",
       "</div>"
      ],
      "text/plain": [
       "  catalog          flux          freq\n",
       "0   first  1.489814e-13  1.400000e+09\n",
       "0   galex  2.997325e-12  1.294608e+15\n",
       "1   galex  1.711803e-12  1.948476e+15\n",
       "0    wise  1.063797e-11  8.817425e+13\n",
       "1    wise  1.529865e-11  6.517227e+13\n",
       "2    wise  1.051822e-11  2.498270e+13\n",
       "3    wise  1.821210e-11  1.362693e+13\n",
       "0     xmm  1.471910e-11  1.208995e+18\n",
       "1     xmm  1.112630e-12  6.044973e+16\n",
       "2     xmm  1.962720e-12  1.813492e+17\n",
       "3     xmm  2.588880e-12  3.626984e+17\n",
       "4     xmm  3.708190e-12  7.253968e+17\n",
       "5     xmm  5.383550e-12  1.934391e+18"
      ]
     },
     "execution_count": 8,
     "metadata": {},
     "output_type": "execute_result"
    }
   ],
   "source": [
    "flux_table"
   ]
  },
  {
   "cell_type": "code",
   "execution_count": 16,
   "metadata": {
    "collapsed": true
   },
   "outputs": [],
   "source": [
    "from plot import plot\n",
    "from plot import element\n",
    "\n",
    "sed = plot.SED(object_name)\n",
    "cols = flux_table.columns\n",
    "\n",
    "for survey,group in flux_table.groupby('catalog'):\n",
    "#     print(survey)\n",
    "#     print(group)\n",
    "    el = element.Element(survey,group,y='flux',x='freq')\n",
    "    sed.add_element(el)"
   ]
  },
  {
   "cell_type": "code",
   "execution_count": 17,
   "metadata": {
    "collapsed": true
   },
   "outputs": [],
   "source": [
    "# sed.draw()\n",
    "# sed.show()\n",
    "sed.plot()"
   ]
  },
  {
   "cell_type": "markdown",
   "metadata": {
    "collapsed": true
   },
   "source": [
    "## The MRK421 example from data in disk"
   ]
  },
  {
   "cell_type": "code",
   "execution_count": 18,
   "metadata": {},
   "outputs": [
    {
     "name": "stdout",
     "output_type": "stream",
     "text": [
      "MRK421.csv           MRK421.millimeter.csv  MRK421.txt\r\n",
      "MRK421.gammaray.csv  MRK421.optical.csv     MRK421.uv.csv\r\n",
      "MRK421.infrared.csv  MRK421.radio.csv       MRK421.xray.csv\r\n"
     ]
    }
   ],
   "source": [
    "ls data"
   ]
  },
  {
   "cell_type": "code",
   "execution_count": 19,
   "metadata": {
    "collapsed": true
   },
   "outputs": [],
   "source": [
    "object_name = 'MRK421'"
   ]
  },
  {
   "cell_type": "code",
   "execution_count": 20,
   "metadata": {
    "collapsed": true
   },
   "outputs": [],
   "source": [
    "import pandas\n",
    "\n",
    "from plot import plot\n",
    "from plot import element\n",
    "\n",
    "sed = plot.SED(object_name)\n",
    "\n",
    "for band in 'radio,infrared,millimeter,optical,uv,xray,gammaray'.split(','):\n",
    "    df = pandas.read_csv('data/MRK421.{}.csv'.format(band))\n",
    "    cols = df.columns\n",
    "    el = element.Element(band,df,x='frequency',y='flux')\n",
    "    sed.add_element(el)\n",
    "sed.draw()\n",
    "sed.show()"
   ]
  },
  {
   "cell_type": "code",
   "execution_count": null,
   "metadata": {
    "collapsed": true
   },
   "outputs": [],
   "source": []
  }
 ],
 "metadata": {
  "kernelspec": {
   "display_name": "Python 3",
   "language": "python",
   "name": "python3"
  },
  "language_info": {
   "codemirror_mode": {
    "name": "ipython",
    "version": 3
   },
   "file_extension": ".py",
   "mimetype": "text/x-python",
   "name": "python",
   "nbconvert_exporter": "python",
   "pygments_lexer": "ipython3",
   "version": "3.6.4"
  }
 },
 "nbformat": 4,
 "nbformat_minor": 2
}
