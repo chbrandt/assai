{
 "cells": [
  {
   "cell_type": "code",
   "execution_count": 1,
   "metadata": {},
   "outputs": [
    {
     "data": {
      "text/plain": [
       "'/Users/chbrandt/Estudos/Codigos/REPOS/plot/docs/notebook'"
      ]
     },
     "execution_count": 1,
     "metadata": {},
     "output_type": "execute_result"
    }
   ],
   "source": [
    "pwd"
   ]
  },
  {
   "cell_type": "code",
   "execution_count": 2,
   "metadata": {},
   "outputs": [
    {
     "name": "stdout",
     "output_type": "stream",
     "text": [
      "/Users/chbrandt/Estudos/Codigos/REPOS/plot\n"
     ]
    }
   ],
   "source": [
    "cd '/Users/chbrandt/Estudos/Codigos/REPOS/plot'"
   ]
  },
  {
   "cell_type": "code",
   "execution_count": 3,
   "metadata": {},
   "outputs": [
    {
     "name": "stdout",
     "output_type": "stream",
     "text": [
      "\u001b[34mdata\u001b[m\u001b[m/ \u001b[34mdocs\u001b[m\u001b[m/ \u001b[34mplot\u001b[m\u001b[m/\r\n"
     ]
    }
   ],
   "source": [
    "ls"
   ]
  },
  {
   "cell_type": "code",
   "execution_count": 4,
   "metadata": {},
   "outputs": [],
   "source": [
    "import bokeh\n",
    "# from bokeh.io import output_file\n",
    "output_file('plot.html', title='Bokeh Plot', autosave=False, mode='inline', root_dir=None)\n",
    "# from bokeh.io import output_notebook\n",
    "# output_notebook()"
   ]
  },
  {
   "cell_type": "code",
   "execution_count": 5,
   "metadata": {},
   "outputs": [
    {
     "data": {
      "text/html": [
       "<div>\n",
       "<style>\n",
       "    .dataframe thead tr:only-child th {\n",
       "        text-align: right;\n",
       "    }\n",
       "\n",
       "    .dataframe thead th {\n",
       "        text-align: left;\n",
       "    }\n",
       "\n",
       "    .dataframe tbody tr th {\n",
       "        vertical-align: top;\n",
       "    }\n",
       "</style>\n",
       "<table border=\"1\" class=\"dataframe\">\n",
       "  <thead>\n",
       "    <tr style=\"text-align: right;\">\n",
       "      <th></th>\n",
       "      <th>index</th>\n",
       "      <th>frequency</th>\n",
       "      <th>frequency_bin</th>\n",
       "      <th>flux</th>\n",
       "      <th>flux_error</th>\n",
       "      <th>mjd_start</th>\n",
       "      <th>mjd_stop</th>\n",
       "    </tr>\n",
       "  </thead>\n",
       "  <tbody>\n",
       "    <tr>\n",
       "      <th>count</th>\n",
       "      <td>650.000000</td>\n",
       "      <td>6.500000e+02</td>\n",
       "      <td>2.230000e+02</td>\n",
       "      <td>6.500000e+02</td>\n",
       "      <td>6.500000e+02</td>\n",
       "      <td>647.000000</td>\n",
       "      <td>647.000000</td>\n",
       "    </tr>\n",
       "    <tr>\n",
       "      <th>mean</th>\n",
       "      <td>547.712308</td>\n",
       "      <td>1.703378e+18</td>\n",
       "      <td>4.508298e+17</td>\n",
       "      <td>1.425594e-10</td>\n",
       "      <td>6.429299e-12</td>\n",
       "      <td>51579.398337</td>\n",
       "      <td>51618.008319</td>\n",
       "    </tr>\n",
       "    <tr>\n",
       "      <th>std</th>\n",
       "      <td>343.724652</td>\n",
       "      <td>3.175909e+18</td>\n",
       "      <td>6.756896e+17</td>\n",
       "      <td>1.069142e-10</td>\n",
       "      <td>8.940366e-12</td>\n",
       "      <td>2094.239197</td>\n",
       "      <td>2110.386328</td>\n",
       "    </tr>\n",
       "    <tr>\n",
       "      <th>min</th>\n",
       "      <td>0.000000</td>\n",
       "      <td>3.750000e+16</td>\n",
       "      <td>1.591000e+16</td>\n",
       "      <td>5.797500e-13</td>\n",
       "      <td>2.011700e-15</td>\n",
       "      <td>43813.500000</td>\n",
       "      <td>44695.500000</td>\n",
       "    </tr>\n",
       "    <tr>\n",
       "      <th>25%</th>\n",
       "      <td>164.250000</td>\n",
       "      <td>2.420000e+17</td>\n",
       "      <td>5.798000e+16</td>\n",
       "      <td>5.858075e-11</td>\n",
       "      <td>3.613100e-13</td>\n",
       "      <td>50874.828207</td>\n",
       "      <td>50875.842447</td>\n",
       "    </tr>\n",
       "    <tr>\n",
       "      <th>50%</th>\n",
       "      <td>659.500000</td>\n",
       "      <td>7.254000e+17</td>\n",
       "      <td>1.698000e+17</td>\n",
       "      <td>1.161450e-10</td>\n",
       "      <td>3.896200e-12</td>\n",
       "      <td>51660.733740</td>\n",
       "      <td>51662.970520</td>\n",
       "    </tr>\n",
       "    <tr>\n",
       "      <th>75%</th>\n",
       "      <td>821.750000</td>\n",
       "      <td>1.777000e+18</td>\n",
       "      <td>5.437500e+17</td>\n",
       "      <td>2.025375e-10</td>\n",
       "      <td>8.644325e-12</td>\n",
       "      <td>52593.032708</td>\n",
       "      <td>52593.142697</td>\n",
       "    </tr>\n",
       "    <tr>\n",
       "      <th>max</th>\n",
       "      <td>2961.000000</td>\n",
       "      <td>2.362000e+19</td>\n",
       "      <td>3.375000e+18</td>\n",
       "      <td>5.437900e-10</td>\n",
       "      <td>1.016200e-10</td>\n",
       "      <td>55893.978785</td>\n",
       "      <td>55894.114340</td>\n",
       "    </tr>\n",
       "  </tbody>\n",
       "</table>\n",
       "</div>"
      ],
      "text/plain": [
       "             index     frequency  frequency_bin          flux    flux_error  \\\n",
       "count   650.000000  6.500000e+02   2.230000e+02  6.500000e+02  6.500000e+02   \n",
       "mean    547.712308  1.703378e+18   4.508298e+17  1.425594e-10  6.429299e-12   \n",
       "std     343.724652  3.175909e+18   6.756896e+17  1.069142e-10  8.940366e-12   \n",
       "min       0.000000  3.750000e+16   1.591000e+16  5.797500e-13  2.011700e-15   \n",
       "25%     164.250000  2.420000e+17   5.798000e+16  5.858075e-11  3.613100e-13   \n",
       "50%     659.500000  7.254000e+17   1.698000e+17  1.161450e-10  3.896200e-12   \n",
       "75%     821.750000  1.777000e+18   5.437500e+17  2.025375e-10  8.644325e-12   \n",
       "max    2961.000000  2.362000e+19   3.375000e+18  5.437900e-10  1.016200e-10   \n",
       "\n",
       "          mjd_start      mjd_stop  \n",
       "count    647.000000    647.000000  \n",
       "mean   51579.398337  51618.008319  \n",
       "std     2094.239197   2110.386328  \n",
       "min    43813.500000  44695.500000  \n",
       "25%    50874.828207  50875.842447  \n",
       "50%    51660.733740  51662.970520  \n",
       "75%    52593.032708  52593.142697  \n",
       "max    55893.978785  55894.114340  "
      ]
     },
     "execution_count": 5,
     "metadata": {},
     "output_type": "execute_result"
    }
   ],
   "source": [
    "import pandas\n",
    "data = {}\n",
    "\n",
    "import re\n",
    "import glob\n",
    "for file in glob.glob('data/MRK421.*.csv'):\n",
    "    band = re.search('MRK421.(.*?).csv',file).group(1)\n",
    "    df = pandas.read_csv(file)\n",
    "    data[band] = df\n",
    "df.describe()"
   ]
  },
  {
   "cell_type": "code",
   "execution_count": 6,
   "metadata": {},
   "outputs": [],
   "source": [
    "from plot import element\n",
    "elements = [ element.Element(x=data[key].frequency,y=data[key].flux,label=key) for key in data.keys() ]"
   ]
  },
  {
   "cell_type": "code",
   "execution_count": 7,
   "metadata": {},
   "outputs": [],
   "source": [
    "from plot import plot\n",
    "p = plot.SED()"
   ]
  },
  {
   "cell_type": "code",
   "execution_count": 8,
   "metadata": {
    "collapsed": true
   },
   "outputs": [],
   "source": [
    "for el in elements:\n",
    "    p.add_element(el)"
   ]
  },
  {
   "cell_type": "code",
   "execution_count": 9,
   "metadata": {
    "scrolled": false
   },
   "outputs": [],
   "source": [
    "p.draw()\n",
    "p.show()"
   ]
  },
  {
   "cell_type": "code",
   "execution_count": 10,
   "metadata": {},
   "outputs": [],
   "source": [
    "from bokeh.plotting import figure\n",
    "f = figure()\n",
    "f.circle([1,2,3],[1,10,100])\n",
    "from bokeh.io import show\n",
    "show(f)"
   ]
  },
  {
   "cell_type": "code",
   "execution_count": null,
   "metadata": {
    "collapsed": true
   },
   "outputs": [],
   "source": []
  }
 ],
 "metadata": {
  "kernelspec": {
   "display_name": "Python 3",
   "language": "python",
   "name": "python3"
  },
  "language_info": {
   "codemirror_mode": {
    "name": "ipython",
    "version": 3
   },
   "file_extension": ".py",
   "mimetype": "text/x-python",
   "name": "python",
   "nbconvert_exporter": "python",
   "pygments_lexer": "ipython3",
   "version": "3.6.2"
  }
 },
 "nbformat": 4,
 "nbformat_minor": 2
}
