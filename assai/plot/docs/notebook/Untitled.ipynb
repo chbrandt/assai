{
 "cells": [
  {
   "cell_type": "code",
   "execution_count": 1,
   "metadata": {},
   "outputs": [
    {
     "data": {
      "text/plain": [
       "'/home/chbrandt/fido/repos/plot/docs/notebook'"
      ]
     },
     "execution_count": 1,
     "metadata": {},
     "output_type": "execute_result"
    }
   ],
   "source": [
    "pwd"
   ]
  },
  {
   "cell_type": "code",
   "execution_count": 2,
   "metadata": {},
   "outputs": [
    {
     "name": "stdout",
     "output_type": "stream",
     "text": [
      "[Errno 2] No such file or directory: '/Users/chbrandt/Estudos/Codigos/REPOS/plot'\n",
      "/home/chbrandt/fido/repos/plot/docs/notebook\n"
     ]
    }
   ],
   "source": [
    "cd '/Users/chbrandt/Estudos/Codigos/REPOS/plot'"
   ]
  },
  {
   "cell_type": "code",
   "execution_count": 3,
   "metadata": {},
   "outputs": [
    {
     "name": "stdout",
     "output_type": "stream",
     "text": [
      "Untitled.ipynb\r\n"
     ]
    }
   ],
   "source": [
    "ls"
   ]
  },
  {
   "cell_type": "code",
   "execution_count": 4,
   "metadata": {
    "collapsed": true
   },
   "outputs": [],
   "source": [
    "import bokeh\n",
    "from bokeh.io import output_file\n",
    "# output_file('plot.html', title='Bokeh Plot', autosave=False, mode='inline', root_dir=None)\n",
    "output_file('plot.html',mode='inline')\n",
    "# from bokeh.io import output_notebook\n",
    "# output_notebook()"
   ]
  },
  {
   "cell_type": "code",
   "execution_count": 6,
   "metadata": {},
   "outputs": [
    {
     "data": {
      "text/html": [
       "<div>\n",
       "<style>\n",
       "    .dataframe thead tr:only-child th {\n",
       "        text-align: right;\n",
       "    }\n",
       "\n",
       "    .dataframe thead th {\n",
       "        text-align: left;\n",
       "    }\n",
       "\n",
       "    .dataframe tbody tr th {\n",
       "        vertical-align: top;\n",
       "    }\n",
       "</style>\n",
       "<table border=\"1\" class=\"dataframe\">\n",
       "  <thead>\n",
       "    <tr style=\"text-align: right;\">\n",
       "      <th></th>\n",
       "      <th>index</th>\n",
       "      <th>frequency</th>\n",
       "      <th>frequency_bin</th>\n",
       "      <th>flux</th>\n",
       "      <th>flux_error</th>\n",
       "      <th>mjd_start</th>\n",
       "      <th>mjd_stop</th>\n",
       "    </tr>\n",
       "  </thead>\n",
       "  <tbody>\n",
       "    <tr>\n",
       "      <th>count</th>\n",
       "      <td>79.000000</td>\n",
       "      <td>7.900000e+01</td>\n",
       "      <td>0.0</td>\n",
       "      <td>7.900000e+01</td>\n",
       "      <td>7.200000e+01</td>\n",
       "      <td>8.000000</td>\n",
       "      <td>8.000000</td>\n",
       "    </tr>\n",
       "    <tr>\n",
       "      <th>mean</th>\n",
       "      <td>3054.367089</td>\n",
       "      <td>1.312519e+14</td>\n",
       "      <td>NaN</td>\n",
       "      <td>6.920367e-11</td>\n",
       "      <td>4.184746e-12</td>\n",
       "      <td>55331.943557</td>\n",
       "      <td>55385.293188</td>\n",
       "    </tr>\n",
       "    <tr>\n",
       "      <th>std</th>\n",
       "      <td>56.119419</td>\n",
       "      <td>7.511122e+13</td>\n",
       "      <td>NaN</td>\n",
       "      <td>5.030567e-11</td>\n",
       "      <td>4.670127e-12</td>\n",
       "      <td>0.000000</td>\n",
       "      <td>88.617802</td>\n",
       "    </tr>\n",
       "    <tr>\n",
       "      <th>min</th>\n",
       "      <td>2921.000000</td>\n",
       "      <td>3.000000e+12</td>\n",
       "      <td>NaN</td>\n",
       "      <td>1.610000e-12</td>\n",
       "      <td>2.660000e-15</td>\n",
       "      <td>55331.943557</td>\n",
       "      <td>55337.434106</td>\n",
       "    </tr>\n",
       "    <tr>\n",
       "      <th>25%</th>\n",
       "      <td>3045.500000</td>\n",
       "      <td>8.470000e+13</td>\n",
       "      <td>NaN</td>\n",
       "      <td>3.609750e-11</td>\n",
       "      <td>1.437750e-12</td>\n",
       "      <td>55331.943557</td>\n",
       "      <td>55337.434106</td>\n",
       "    </tr>\n",
       "    <tr>\n",
       "      <th>50%</th>\n",
       "      <td>3065.000000</td>\n",
       "      <td>1.350000e+14</td>\n",
       "      <td>NaN</td>\n",
       "      <td>6.107400e-11</td>\n",
       "      <td>2.795000e-12</td>\n",
       "      <td>55331.943557</td>\n",
       "      <td>55337.434106</td>\n",
       "    </tr>\n",
       "    <tr>\n",
       "      <th>75%</th>\n",
       "      <td>3084.500000</td>\n",
       "      <td>1.830000e+14</td>\n",
       "      <td>NaN</td>\n",
       "      <td>1.025000e-10</td>\n",
       "      <td>5.052500e-12</td>\n",
       "      <td>55331.943557</td>\n",
       "      <td>55385.293188</td>\n",
       "    </tr>\n",
       "    <tr>\n",
       "      <th>max</th>\n",
       "      <td>3180.000000</td>\n",
       "      <td>2.429000e+14</td>\n",
       "      <td>NaN</td>\n",
       "      <td>2.540000e-10</td>\n",
       "      <td>2.640000e-11</td>\n",
       "      <td>55331.943557</td>\n",
       "      <td>55528.870437</td>\n",
       "    </tr>\n",
       "  </tbody>\n",
       "</table>\n",
       "</div>"
      ],
      "text/plain": [
       "             index     frequency  frequency_bin          flux    flux_error  \\\n",
       "count    79.000000  7.900000e+01            0.0  7.900000e+01  7.200000e+01   \n",
       "mean   3054.367089  1.312519e+14            NaN  6.920367e-11  4.184746e-12   \n",
       "std      56.119419  7.511122e+13            NaN  5.030567e-11  4.670127e-12   \n",
       "min    2921.000000  3.000000e+12            NaN  1.610000e-12  2.660000e-15   \n",
       "25%    3045.500000  8.470000e+13            NaN  3.609750e-11  1.437750e-12   \n",
       "50%    3065.000000  1.350000e+14            NaN  6.107400e-11  2.795000e-12   \n",
       "75%    3084.500000  1.830000e+14            NaN  1.025000e-10  5.052500e-12   \n",
       "max    3180.000000  2.429000e+14            NaN  2.540000e-10  2.640000e-11   \n",
       "\n",
       "          mjd_start      mjd_stop  \n",
       "count      8.000000      8.000000  \n",
       "mean   55331.943557  55385.293188  \n",
       "std        0.000000     88.617802  \n",
       "min    55331.943557  55337.434106  \n",
       "25%    55331.943557  55337.434106  \n",
       "50%    55331.943557  55337.434106  \n",
       "75%    55331.943557  55385.293188  \n",
       "max    55331.943557  55528.870437  "
      ]
     },
     "execution_count": 6,
     "metadata": {},
     "output_type": "execute_result"
    }
   ],
   "source": [
    "import pandas\n",
    "data = {}\n",
    "\n",
    "import re\n",
    "import glob\n",
    "for file in glob.glob('../../data/MRK421.*.csv'):\n",
    "    band = re.search('MRK421.(.*?).csv',file).group(1)\n",
    "    df = pandas.read_csv(file)\n",
    "    data[band] = df\n",
    "df.describe()"
   ]
  },
  {
   "cell_type": "code",
   "execution_count": 8,
   "metadata": {},
   "outputs": [
    {
     "ename": "ModuleNotFoundError",
     "evalue": "No module named 'astropy'",
     "output_type": "error",
     "traceback": [
      "\u001b[0;31m---------------------------------------------------------------------------\u001b[0m",
      "\u001b[0;31mModuleNotFoundError\u001b[0m                       Traceback (most recent call last)",
      "\u001b[0;32m<ipython-input-8-6858f9df1756>\u001b[0m in \u001b[0;36m<module>\u001b[0;34m()\u001b[0m\n\u001b[0;32m----> 1\u001b[0;31m \u001b[0;32mfrom\u001b[0m \u001b[0mplot\u001b[0m \u001b[0;32mimport\u001b[0m \u001b[0melement\u001b[0m\u001b[0;34m\u001b[0m\u001b[0m\n\u001b[0m\u001b[1;32m      2\u001b[0m \u001b[0melements\u001b[0m \u001b[0;34m=\u001b[0m \u001b[0;34m[\u001b[0m \u001b[0melement\u001b[0m\u001b[0;34m.\u001b[0m\u001b[0mElement\u001b[0m\u001b[0;34m(\u001b[0m\u001b[0mx\u001b[0m\u001b[0;34m=\u001b[0m\u001b[0mdata\u001b[0m\u001b[0;34m[\u001b[0m\u001b[0mkey\u001b[0m\u001b[0;34m]\u001b[0m\u001b[0;34m.\u001b[0m\u001b[0mfrequency\u001b[0m\u001b[0;34m,\u001b[0m\u001b[0my\u001b[0m\u001b[0;34m=\u001b[0m\u001b[0mdata\u001b[0m\u001b[0;34m[\u001b[0m\u001b[0mkey\u001b[0m\u001b[0;34m]\u001b[0m\u001b[0;34m.\u001b[0m\u001b[0mflux\u001b[0m\u001b[0;34m,\u001b[0m\u001b[0mlabel\u001b[0m\u001b[0;34m=\u001b[0m\u001b[0mkey\u001b[0m\u001b[0;34m)\u001b[0m \u001b[0;32mfor\u001b[0m \u001b[0mkey\u001b[0m \u001b[0;32min\u001b[0m \u001b[0mdata\u001b[0m\u001b[0;34m.\u001b[0m\u001b[0mkeys\u001b[0m\u001b[0;34m(\u001b[0m\u001b[0;34m)\u001b[0m \u001b[0;34m]\u001b[0m\u001b[0;34m\u001b[0m\u001b[0m\n\u001b[1;32m      3\u001b[0m \u001b[0melements\u001b[0m \u001b[0;34m=\u001b[0m \u001b[0melement\u001b[0m\u001b[0;34m.\u001b[0m\u001b[0mElementsList\u001b[0m\u001b[0;34m(\u001b[0m\u001b[0mlabel\u001b[0m\u001b[0;34m=\u001b[0m\u001b[0;34m'list'\u001b[0m\u001b[0;34m,\u001b[0m\u001b[0mpalette_type\u001b[0m\u001b[0;34m=\u001b[0m\u001b[0;34m'spectral'\u001b[0m\u001b[0;34m)\u001b[0m\u001b[0;34m\u001b[0m\u001b[0m\n",
      "\u001b[0;32m~/fido/repos/plot/docs/notebook/plot/element.py\u001b[0m in \u001b[0;36m<module>\u001b[0;34m()\u001b[0m\n\u001b[1;32m     11\u001b[0m \u001b[0;31m#         return ElementLine(label,x,y,xunit,yunit)\u001b[0m\u001b[0;34m\u001b[0m\u001b[0;34m\u001b[0m\u001b[0m\n\u001b[1;32m     12\u001b[0m \u001b[0;34m\u001b[0m\u001b[0m\n\u001b[0;32m---> 13\u001b[0;31m \u001b[0;32mfrom\u001b[0m \u001b[0;34m.\u001b[0m\u001b[0munits\u001b[0m \u001b[0;32mimport\u001b[0m \u001b[0minit_unit\u001b[0m\u001b[0;34m\u001b[0m\u001b[0m\n\u001b[0m\u001b[1;32m     14\u001b[0m \u001b[0;34m\u001b[0m\u001b[0m\n\u001b[1;32m     15\u001b[0m \u001b[0;32mfrom\u001b[0m \u001b[0;34m.\u001b[0m\u001b[0mbase\u001b[0m\u001b[0;34m.\u001b[0m\u001b[0melement\u001b[0m \u001b[0;32mimport\u001b[0m \u001b[0mElementBase\u001b[0m\u001b[0;34m\u001b[0m\u001b[0m\n",
      "\u001b[0;32m~/fido/repos/plot/docs/notebook/plot/units.py\u001b[0m in \u001b[0;36m<module>\u001b[0;34m()\u001b[0m\n\u001b[0;32m----> 1\u001b[0;31m \u001b[0;32mfrom\u001b[0m \u001b[0mastropy\u001b[0m\u001b[0;34m.\u001b[0m\u001b[0munits\u001b[0m \u001b[0;32mimport\u001b[0m \u001b[0mUnit\u001b[0m\u001b[0;34m\u001b[0m\u001b[0m\n\u001b[0m\u001b[1;32m      2\u001b[0m \u001b[0;34m\u001b[0m\u001b[0m\n\u001b[1;32m      3\u001b[0m \u001b[0;32mdef\u001b[0m \u001b[0minit_unit\u001b[0m\u001b[0;34m(\u001b[0m\u001b[0munit\u001b[0m\u001b[0;34m)\u001b[0m\u001b[0;34m:\u001b[0m\u001b[0;34m\u001b[0m\u001b[0m\n\u001b[1;32m      4\u001b[0m     \u001b[0;32mfrom\u001b[0m \u001b[0mastropy\u001b[0m \u001b[0;32mimport\u001b[0m \u001b[0munits\u001b[0m \u001b[0;32mas\u001b[0m \u001b[0mu\u001b[0m\u001b[0;34m\u001b[0m\u001b[0m\n\u001b[1;32m      5\u001b[0m     \u001b[0;32mif\u001b[0m \u001b[0misinstance\u001b[0m\u001b[0;34m(\u001b[0m\u001b[0munit\u001b[0m\u001b[0;34m,\u001b[0m\u001b[0mUnit\u001b[0m\u001b[0;34m)\u001b[0m\u001b[0;34m:\u001b[0m\u001b[0;34m\u001b[0m\u001b[0m\n",
      "\u001b[0;31mModuleNotFoundError\u001b[0m: No module named 'astropy'"
     ]
    }
   ],
   "source": [
    "from plot import element\n",
    "elements = [ element.Element(x=data[key].frequency,y=data[key].flux,label=key) for key in data.keys() ]\n",
    "elements = element.ElementsList(label='list',palette_type='spectral')"
   ]
  },
  {
   "cell_type": "code",
   "execution_count": 8,
   "metadata": {
    "collapsed": true
   },
   "outputs": [],
   "source": [
    "from plot import plot\n",
    "p = plot.SED()"
   ]
  },
  {
   "cell_type": "code",
   "execution_count": 9,
   "metadata": {
    "collapsed": true
   },
   "outputs": [],
   "source": [
    "for el in elements:\n",
    "    p.add_element(el)"
   ]
  },
  {
   "cell_type": "code",
   "execution_count": 10,
   "metadata": {
    "collapsed": true,
    "scrolled": false
   },
   "outputs": [],
   "source": [
    "p.draw()\n",
    "p.show()"
   ]
  },
  {
   "cell_type": "code",
   "execution_count": 11,
   "metadata": {
    "collapsed": true
   },
   "outputs": [],
   "source": [
    "# from bokeh.plotting import figure\n",
    "# f = figure()\n",
    "# f.circle([1,2,3],[1,10,100])\n",
    "# from bokeh.io import show\n",
    "# show(f)"
   ]
  },
  {
   "cell_type": "code",
   "execution_count": null,
   "metadata": {
    "collapsed": true
   },
   "outputs": [],
   "source": []
  },
  {
   "cell_type": "code",
   "execution_count": null,
   "metadata": {
    "collapsed": true
   },
   "outputs": [],
   "source": []
  }
 ],
 "metadata": {
  "kernelspec": {
   "display_name": "Python 3",
   "language": "python",
   "name": "python3"
  },
  "language_info": {
   "codemirror_mode": {
    "name": "ipython",
    "version": 3
   },
   "file_extension": ".py",
   "mimetype": "text/x-python",
   "name": "python",
   "nbconvert_exporter": "python",
   "pygments_lexer": "ipython3",
   "version": "3.6.2"
  }
 },
 "nbformat": 4,
 "nbformat_minor": 2
}
