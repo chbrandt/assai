{
 "cells": [
  {
   "cell_type": "markdown",
   "metadata": {},
   "source": [
    "# SED tool prototype"
   ]
  },
  {
   "cell_type": "code",
   "execution_count": 11,
   "metadata": {
    "collapsed": true
   },
   "outputs": [],
   "source": [
    "%qtconsole"
   ]
  },
  {
   "cell_type": "code",
   "execution_count": 2,
   "metadata": {},
   "outputs": [
    {
     "name": "stdout",
     "output_type": "stream",
     "text": [
      "SED-VO_prototype.ipynb  \u001b[34mdata\u001b[m\u001b[m/                   sed_builder.pyc\r\n",
      "\u001b[34m__pycache__\u001b[m\u001b[m/            \u001b[34mdocs\u001b[m\u001b[m/                   \u001b[34mtools\u001b[m\u001b[m/\r\n",
      "\u001b[34mcatalogs\u001b[m\u001b[m/               \u001b[34mplot\u001b[m\u001b[m/\r\n",
      "\u001b[34mcats\u001b[m\u001b[m/                   sed_builder.py\r\n"
     ]
    }
   ],
   "source": [
    "ls"
   ]
  },
  {
   "cell_type": "code",
   "execution_count": 3,
   "metadata": {
    "collapsed": true
   },
   "outputs": [],
   "source": [
    "import warnings\n",
    "warnings.simplefilter('ignore')\n",
    "\n",
    "import astropy\n",
    "import bokeh\n",
    "\n",
    "# Tools to handle object/data discovery\n",
    "import catalogs\n",
    "import tools\n",
    "\n",
    "# The SED plot\n",
    "import plot"
   ]
  },
  {
   "cell_type": "code",
   "execution_count": 4,
   "metadata": {
    "collapsed": true
   },
   "outputs": [],
   "source": [
    "from sed_builder import search_data"
   ]
  },
  {
   "cell_type": "code",
   "execution_count": 5,
   "metadata": {
    "collapsed": true
   },
   "outputs": [],
   "source": [
    "object_name = '3c273'"
   ]
  },
  {
   "cell_type": "code",
   "execution_count": 6,
   "metadata": {},
   "outputs": [
    {
     "name": "stdout",
     "output_type": "stream",
     "text": [
      "INFO: Query Conesearch service and return a 'columns'-filtered table [eada.vo.conesearch]\n",
      "INFO: Position (%s,%s) and radius (%s), in degrees [eada.vo.conesearch]\n",
      "INFO: URL (%s) and columns (%s) [eada.vo.conesearch]\n",
      "INFO: Retrieved table has 2 objects, 4 columns. [eada.vo.conesearch]\n",
      "> 2 objects found\n",
      "INFO: Query Conesearch service and return a 'columns'-filtered table [eada.vo.conesearch]\n",
      "INFO: Position (%s,%s) and radius (%s), in degrees [eada.vo.conesearch]\n",
      "INFO: URL (%s) and columns (%s) [eada.vo.conesearch]\n"
     ]
    },
    {
     "name": "stderr",
     "output_type": "stream",
     "text": [
      "INFO:astropy:Query Conesearch service and return a 'columns'-filtered table\n",
      "INFO:astropy:Position (187.277915,2.052388) and radius (0.01), in degrees\n",
      "INFO:astropy:URL (http://gsss.stsci.edu/webservices/vo/ConeSearch.aspx?CAT=GALEX&) and columns (['IAUname', 'RA', 'DEC', 'fuv_mag', 'nuv_mag'])\n"
     ]
    },
    {
     "name": "stdout",
     "output_type": "stream",
     "text": [
      "INFO: Retrieved table has 19 objects, 8 columns. [eada.vo.conesearch]\n",
      "> 19 objects found\n",
      "INFO: Query Conesearch service and return a 'columns'-filtered table [eada.vo.conesearch]\n",
      "INFO: Position (%s,%s) and radius (%s), in degrees [eada.vo.conesearch]\n",
      "INFO: URL (%s) and columns (%s) [eada.vo.conesearch]\n"
     ]
    },
    {
     "name": "stderr",
     "output_type": "stream",
     "text": [
      "INFO:astropy:Retrieved table has 4 objects, 5 columns.\n"
     ]
    },
    {
     "name": "stdout",
     "output_type": "stream",
     "text": [
      "INFO: Retrieved table has 4 objects, 5 columns. [eada.vo.conesearch]\n",
      "> 4 objects found\n"
     ]
    }
   ],
   "source": [
    "flux_table = search_data(object_name)"
   ]
  },
  {
   "cell_type": "code",
   "execution_count": 7,
   "metadata": {},
   "outputs": [
    {
     "data": {
      "text/html": [
       "<div>\n",
       "<style>\n",
       "    .dataframe thead tr:only-child th {\n",
       "        text-align: right;\n",
       "    }\n",
       "\n",
       "    .dataframe thead th {\n",
       "        text-align: left;\n",
       "    }\n",
       "\n",
       "    .dataframe tbody tr th {\n",
       "        vertical-align: top;\n",
       "    }\n",
       "</style>\n",
       "<table border=\"1\" class=\"dataframe\">\n",
       "  <thead>\n",
       "    <tr style=\"text-align: right;\">\n",
       "      <th></th>\n",
       "      <th>catalog</th>\n",
       "      <th>flux</th>\n",
       "      <th>freq</th>\n",
       "    </tr>\n",
       "  </thead>\n",
       "  <tbody>\n",
       "    <tr>\n",
       "      <th>0</th>\n",
       "      <td>first</td>\n",
       "      <td>2.291674e-13</td>\n",
       "      <td>1.400000e+09</td>\n",
       "    </tr>\n",
       "    <tr>\n",
       "      <th>0</th>\n",
       "      <td>sdss</td>\n",
       "      <td>7.766249e-11</td>\n",
       "      <td>8.461543e+14</td>\n",
       "    </tr>\n",
       "    <tr>\n",
       "      <th>1</th>\n",
       "      <td>sdss</td>\n",
       "      <td>1.453907e-10</td>\n",
       "      <td>6.284957e+14</td>\n",
       "    </tr>\n",
       "    <tr>\n",
       "      <th>2</th>\n",
       "      <td>sdss</td>\n",
       "      <td>1.231211e-10</td>\n",
       "      <td>4.811306e+14</td>\n",
       "    </tr>\n",
       "    <tr>\n",
       "      <th>3</th>\n",
       "      <td>sdss</td>\n",
       "      <td>1.263115e-10</td>\n",
       "      <td>3.931704e+14</td>\n",
       "    </tr>\n",
       "    <tr>\n",
       "      <th>4</th>\n",
       "      <td>sdss</td>\n",
       "      <td>6.077730e-11</td>\n",
       "      <td>3.282160e+14</td>\n",
       "    </tr>\n",
       "    <tr>\n",
       "      <th>0</th>\n",
       "      <td>galex</td>\n",
       "      <td>1.468931e+02</td>\n",
       "      <td>1.294608e+15</td>\n",
       "    </tr>\n",
       "    <tr>\n",
       "      <th>1</th>\n",
       "      <td>galex</td>\n",
       "      <td>3.462732e+02</td>\n",
       "      <td>1.948476e+15</td>\n",
       "    </tr>\n",
       "  </tbody>\n",
       "</table>\n",
       "</div>"
      ],
      "text/plain": [
       "  catalog          flux          freq\n",
       "0   first  2.291674e-13  1.400000e+09\n",
       "0    sdss  7.766249e-11  8.461543e+14\n",
       "1    sdss  1.453907e-10  6.284957e+14\n",
       "2    sdss  1.231211e-10  4.811306e+14\n",
       "3    sdss  1.263115e-10  3.931704e+14\n",
       "4    sdss  6.077730e-11  3.282160e+14\n",
       "0   galex  1.468931e+02  1.294608e+15\n",
       "1   galex  3.462732e+02  1.948476e+15"
      ]
     },
     "execution_count": 7,
     "metadata": {},
     "output_type": "execute_result"
    }
   ],
   "source": [
    "flux_table"
   ]
  },
  {
   "cell_type": "code",
   "execution_count": 8,
   "metadata": {
    "collapsed": true
   },
   "outputs": [],
   "source": [
    "from plot import plot\n",
    "from plot import element\n",
    "\n",
    "sed = plot.SED(object_name)\n",
    "cols = flux_table.columns\n",
    "\n",
    "for survey,group in flux_table.groupby('catalog'):\n",
    "#     print(survey)\n",
    "#     print(group)\n",
    "    el = element.Element(survey,group,y='flux',x='freq')\n",
    "    sed.add_element(el)"
   ]
  },
  {
   "cell_type": "code",
   "execution_count": 9,
   "metadata": {
    "collapsed": true
   },
   "outputs": [],
   "source": [
    "# sed.draw()\n",
    "# sed.show()\n",
    "sed.plot()"
   ]
  },
  {
   "cell_type": "code",
   "execution_count": 10,
   "metadata": {},
   "outputs": [
    {
     "ename": "AssertionError",
     "evalue": "",
     "output_type": "error",
     "traceback": [
      "\u001b[0;31m---------------------------------------------------------------------------\u001b[0m",
      "\u001b[0;31mAssertionError\u001b[0m                            Traceback (most recent call last)",
      "\u001b[0;32m<ipython-input-10-2351619fea14>\u001b[0m in \u001b[0;36m<module>\u001b[0;34m()\u001b[0m\n\u001b[0;32m----> 1\u001b[0;31m \u001b[0;32massert\u001b[0m \u001b[0;32mNone\u001b[0m\u001b[0;34m\u001b[0m\u001b[0m\n\u001b[0m",
      "\u001b[0;31mAssertionError\u001b[0m: "
     ]
    }
   ],
   "source": [
    "assert None"
   ]
  },
  {
   "cell_type": "markdown",
   "metadata": {
    "collapsed": true
   },
   "source": [
    "## The MRK421 example from data in disk"
   ]
  },
  {
   "cell_type": "code",
   "execution_count": null,
   "metadata": {
    "collapsed": true
   },
   "outputs": [],
   "source": [
    "ls data"
   ]
  },
  {
   "cell_type": "code",
   "execution_count": null,
   "metadata": {
    "collapsed": true
   },
   "outputs": [],
   "source": [
    "import pandas\n",
    "\n",
    "from plot import plot\n",
    "from plot import element\n",
    "\n",
    "sed = plot.SED(object_name)\n",
    "\n",
    "for band in 'radio,infrared,millimeter,optical,uv,xray,gammaray'.split(','):\n",
    "    df = pandas.read_csv('data/MRK421.{}.csv'.format(band))\n",
    "    cols = df.columns\n",
    "    el = element.Element(band,df,x='frequency',y='flux')\n",
    "    sed.add_element(el)\n",
    "sed.draw()\n",
    "sed.show()"
   ]
  },
  {
   "cell_type": "code",
   "execution_count": null,
   "metadata": {
    "collapsed": true
   },
   "outputs": [],
   "source": []
  },
  {
   "cell_type": "code",
   "execution_count": null,
   "metadata": {
    "collapsed": true
   },
   "outputs": [],
   "source": []
  }
 ],
 "metadata": {
  "kernelspec": {
   "display_name": "Python 3",
   "language": "python",
   "name": "python3"
  },
  "language_info": {
   "codemirror_mode": {
    "name": "ipython",
    "version": 3
   },
   "file_extension": ".py",
   "mimetype": "text/x-python",
   "name": "python",
   "nbconvert_exporter": "python",
   "pygments_lexer": "ipython3",
   "version": "3.6.2"
  }
 },
 "nbformat": 4,
 "nbformat_minor": 2
}
